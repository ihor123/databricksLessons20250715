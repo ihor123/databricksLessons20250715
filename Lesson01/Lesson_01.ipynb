{
 "cells": [
  {
   "cell_type": "code",
   "execution_count": 0,
   "metadata": {
    "application/vnd.databricks.v1+cell": {
     "cellMetadata": {
      "byteLimit": 2048000,
      "rowLimit": 10000
     },
     "inputWidgets": {},
     "nuid": "6e4b24b0-2ed8-495f-8f2e-1bf9abefa512",
     "showTitle": false,
     "tableResultSettingsMap": {},
     "title": ""
    }
   },
   "outputs": [],
   "source": [
    "%sql\n",
    "\n",
    "create or replace table lesson1_workflow_users(\n",
    "  id int,\n",
    "  firstname string,\n",
    "  age int,\n",
    "  created_date timestamp\n",
    ");\n",
    "\n",
    "insert into lesson1_workflow_users(id,firstname,age,created_date) values\n",
    "(1, 'Alice',30,current_timestamp()),\n",
    "(2, 'Bob',25,current_timestamp()),\n",
    "(3, 'Charlie',35,current_timestamp()),\n",
    "(4, 'David',28,current_timestamp()),\n",
    "(5, 'Eve',22,current_timestamp());\n"
   ]
  },
  {
   "cell_type": "code",
   "execution_count": 0,
   "metadata": {
    "application/vnd.databricks.v1+cell": {
     "cellMetadata": {
      "byteLimit": 2048000,
      "rowLimit": 10000
     },
     "inputWidgets": {},
     "nuid": "1cbf836a-a3fb-4fd3-a3c1-0767b5a48251",
     "showTitle": false,
     "tableResultSettingsMap": {},
     "title": ""
    }
   },
   "outputs": [],
   "source": [
    "display(\"bbb\")"
   ]
  }
 ],
 "metadata": {
  "application/vnd.databricks.v1+notebook": {
   "computePreferences": null,
   "dashboards": [],
   "environmentMetadata": {
    "base_environment": "",
    "environment_version": "2"
   },
   "inputWidgetPreferences": null,
   "language": "python",
   "notebookMetadata": {
    "pythonIndentUnit": 4
   },
   "notebookName": "Lesson_01",
   "widgets": {}
  },
  "language_info": {
   "name": "python"
  }
 },
 "nbformat": 4,
 "nbformat_minor": 0
}
