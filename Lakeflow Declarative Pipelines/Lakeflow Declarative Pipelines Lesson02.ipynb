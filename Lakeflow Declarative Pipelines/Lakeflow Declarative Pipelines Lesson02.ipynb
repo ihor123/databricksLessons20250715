{
 "cells": [
  {
   "cell_type": "code",
   "execution_count": 0,
   "metadata": {
    "application/vnd.databricks.v1+cell": {
     "cellMetadata": {
      "byteLimit": 2048000,
      "implicitDf": true,
      "rowLimit": 10000
     },
     "inputWidgets": {},
     "nuid": "f4205052-8c8e-4983-9a23-ff60b6384539",
     "showTitle": false,
     "tableResultSettingsMap": {},
     "title": ""
    }
   },
   "outputs": [],
   "source": [
    "%sql\n",
    "\n",
    "create or refresh streaming table default.1_bronze_db.orders_bronze\n",
    "as\n",
    "select\n",
    "*,\n",
    "current_timestamp() as processing_time,\n",
    "_metadata.file_name as source_file\n",
    "from STREAM read_files(\n",
    "  \"/Volumes/workspace/ops/volumes\" || \"/orders\",\n",
    "  format => \"json\"\n",
    ");\n",
    "\n",
    "/*\n",
    "create or replace table default.orders_silver\n",
    "as\n",
    "select\n",
    "order_id,\n",
    "timestamp(ordertimestamp) as order_timestamp,\n",
    "customer_id,\n",
    "source_file\n",
    "from default.orders_bronze;\n",
    "\n",
    "create or replace view default.orders_by_date_vw\n",
    "as\n",
    "select\n",
    "  date(order_timestamp) as order_date,\n",
    "  count(*) total_daily_orders\n",
    "from default.orders_silver\n",
    "group by date(order_timestamp);\n",
    "\n",
    "\n",
    "select * from default.orders_bronze;\n",
    "select * from default.orders_silver;\n",
    "select * from default.orders_by_date_vw;\n",
    "\n",
    "*/"
   ]
  },
  {
   "cell_type": "code",
   "execution_count": 0,
   "metadata": {
    "application/vnd.databricks.v1+cell": {
     "cellMetadata": {
      "byteLimit": 2048000,
      "implicitDf": true,
      "rowLimit": 10000
     },
     "inputWidgets": {},
     "nuid": "c0646978-b196-41eb-a8d9-3f9745f14bf8",
     "showTitle": false,
     "tableResultSettingsMap": {},
     "title": ""
    }
   },
   "outputs": [],
   "source": [
    "%sql\n",
    "select * from 3_gold_db.orders_by_date_vw"
   ]
  }
 ],
 "metadata": {
  "application/vnd.databricks.v1+notebook": {
   "computePreferences": null,
   "dashboards": [],
   "environmentMetadata": {
    "base_environment": "",
    "environment_version": "2"
   },
   "inputWidgetPreferences": null,
   "language": "python",
   "notebookMetadata": {
    "mostRecentlyExecutedCommandWithImplicitDF": {
     "commandId": 6073020758777309,
     "dataframes": [
      "_sqldf"
     ]
    },
    "pythonIndentUnit": 4
   },
   "notebookName": "Lakeflow Declarative Pipelines Lesson02",
   "widgets": {}
  },
  "language_info": {
   "name": "python"
  }
 },
 "nbformat": 4,
 "nbformat_minor": 0
}
