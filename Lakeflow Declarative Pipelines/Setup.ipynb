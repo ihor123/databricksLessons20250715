{
 "cells": [
  {
   "cell_type": "code",
   "execution_count": 0,
   "metadata": {
    "application/vnd.databricks.v1+cell": {
     "cellMetadata": {
      "byteLimit": 2048000,
      "implicitDf": true,
      "rowLimit": 10000
     },
     "inputWidgets": {},
     "nuid": "3a1402a0-3ddf-47c0-b692-3fe7373f14fb",
     "showTitle": false,
     "tableResultSettingsMap": {},
     "title": ""
    }
   },
   "outputs": [],
   "source": [
    "%sql\n",
    "create schema if not exists 1_bronze_db;\n",
    "create schema if not exists 2_silver_db;\n",
    "create schema if not exists 3_gold_db;\n",
    "create schema if not exists ops;\n",
    "\n",
    "\n"
   ]
  },
  {
   "cell_type": "code",
   "execution_count": 0,
   "metadata": {
    "application/vnd.databricks.v1+cell": {
     "cellMetadata": {
      "byteLimit": 2048000,
      "rowLimit": 10000
     },
     "inputWidgets": {},
     "nuid": "fcc614dd-47d3-4e0d-a2fe-4cc7438f3a41",
     "showTitle": false,
     "tableResultSettingsMap": {},
     "title": ""
    }
   },
   "outputs": [],
   "source": [
    "class PathClass:\n",
    "    working_dir=\"dbfs:/Volumes/workspace/ops/volumes\"\n",
    "\n",
    "    def __init__(self):\n",
    "        return None \n",
    "    \n",
    "class DAClass:\n",
    "\n",
    "    paths = PathClass()\n",
    "    def __init__(self):\n",
    "        #spark.sql(\"DA.paths_working_directory = '{0}'\".format(self.path.working_directory))\n",
    "                  #'{0}'\",self.path.working_directory)\n",
    "        \n",
    "        return None\n",
    "  \n",
    "\n",
    "DA = DAClass()\n",
    "\n",
    "display(DA.paths.working_dir)\n",
    "\n"
   ]
  }
 ],
 "metadata": {
  "application/vnd.databricks.v1+notebook": {
   "computePreferences": null,
   "dashboards": [],
   "environmentMetadata": {
    "base_environment": "",
    "environment_version": "2"
   },
   "inputWidgetPreferences": null,
   "language": "python",
   "notebookMetadata": {
    "mostRecentlyExecutedCommandWithImplicitDF": {
     "commandId": 7467709166430619,
     "dataframes": [
      "_sqldf"
     ]
    },
    "pythonIndentUnit": 4
   },
   "notebookName": "Setup",
   "widgets": {}
  },
  "language_info": {
   "name": "python"
  }
 },
 "nbformat": 4,
 "nbformat_minor": 0
}
