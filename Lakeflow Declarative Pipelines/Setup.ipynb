{
 "cells": [
  {
   "cell_type": "code",
   "execution_count": 0,
   "metadata": {
    "application/vnd.databricks.v1+cell": {
     "cellMetadata": {
      "byteLimit": 2048000,
      "implicitDf": true,
      "rowLimit": 10000
     },
     "inputWidgets": {},
     "nuid": "3a1402a0-3ddf-47c0-b692-3fe7373f14fb",
     "showTitle": false,
     "tableResultSettingsMap": {},
     "title": ""
    }
   },
   "outputs": [],
   "source": [
    "%sql\n",
    "create schema if not exists 1_bronze_db;\n",
    "create schema if not exists 2_silver_db;\n",
    "create schema if not exists 3_gold_db;\n",
    "create schema if not exists ops;\n",
    "\n",
    "\n"
   ]
  },
  {
   "cell_type": "code",
   "execution_count": 0,
   "metadata": {
    "application/vnd.databricks.v1+cell": {
     "cellMetadata": {
      "byteLimit": 2048000,
      "rowLimit": 10000
     },
     "inputWidgets": {},
     "nuid": "fcc614dd-47d3-4e0d-a2fe-4cc7438f3a41",
     "showTitle": false,
     "tableResultSettingsMap": {},
     "title": ""
    }
   },
   "outputs": [],
   "source": [
    "class PathClass:\n",
    "    working_dir=\"dbfs:/Volumes/workspace/ops/volumes\"\n",
    "\n",
    "    def __init__(self):\n",
    "        return None \n",
    "    \n",
    "class DAClass:\n",
    "\n",
    "    paths = PathClass()\n",
    "    def __init__(self):\n",
    "        #spark.sql(\"DA.paths_working_directory = '{0}'\".format(self.path.working_directory))\n",
    "                  #'{0}'\",self.path.working_directory)\n",
    "        \n",
    "        return None\n",
    "  \n",
    "\n",
    "DA = DAClass()\n",
    "\n",
    "display(DA.paths.working_dir)\n",
    "\n"
   ]
  },
  {
   "cell_type": "code",
   "execution_count": 0,
   "metadata": {
    "application/vnd.databricks.v1+cell": {
     "cellMetadata": {
      "byteLimit": 2048000,
      "implicitDf": true,
      "rowLimit": 10000
     },
     "inputWidgets": {},
     "nuid": "e06adbaf-bf60-4c70-8fff-1eaa6c4ae1be",
     "showTitle": false,
     "tableResultSettingsMap": {},
     "title": ""
    }
   },
   "outputs": [],
   "source": [
    "%sql\n",
    "use ops;\n",
    "--create if not exists volumes;"
   ]
  },
  {
   "cell_type": "code",
   "execution_count": 0,
   "metadata": {
    "application/vnd.databricks.v1+cell": {
     "cellMetadata": {
      "byteLimit": 2048000,
      "rowLimit": 10000
     },
     "inputWidgets": {},
     "nuid": "481b5963-7041-41ad-bb9a-a83f1118bf5c",
     "showTitle": false,
     "tableResultSettingsMap": {},
     "title": ""
    }
   },
   "outputs": [],
   "source": [
    "from pyspark.sql.types import StructType, StructField, StringType, DoubleType, LongType, ArrayType, TimestampType\n",
    "from pyspark.sql.functions import current_timestamp\n",
    "\n",
    "schema = StructType([StructField('window',StructType([\n",
    "                                                        StructField('start',TimestampType(),True),\n",
    "                                                        StructField('end',TimestampType(),True)\n",
    "                                                    ]),False),\n",
    "                    StructField('city',StringType(),True),\n",
    "                    StructField('total_revenue',DoubleType(),True)\n",
    "                    ])\n",
    "empty_df = spark.createDataFrame([],schema=schema)\n",
    "display(empty_df)\n",
    "\n",
    "\n",
    "spark.sql('''\n",
    "          \n",
    "          create schema if not exists ops.etl\n",
    "          ''')\n",
    "\n",
    "empty_df= empty_df.withColumn('timestamp',current_timestamp())\n",
    "\n",
    "empty_df.write.mode(\"overwrite\").option(\"mergeSchema\",\"true\").saveAsTable(name=\"ops.etl.total_revenue\")\n",
    "\n"
   ]
  }
 ],
 "metadata": {
  "application/vnd.databricks.v1+notebook": {
   "computePreferences": {
    "hardware": {
     "accelerator": null,
     "gpuPoolId": null,
     "memory": null
    }
   },
   "dashboards": [],
   "environmentMetadata": {
    "base_environment": "",
    "environment_version": "2"
   },
   "inputWidgetPreferences": null,
   "language": "python",
   "notebookMetadata": {
    "mostRecentlyExecutedCommandWithImplicitDF": {
     "commandId": 5188755391514804,
     "dataframes": [
      "_sqldf"
     ]
    },
    "pythonIndentUnit": 4
   },
   "notebookName": "Setup",
   "widgets": {}
  },
  "language_info": {
   "name": "python"
  }
 },
 "nbformat": 4,
 "nbformat_minor": 0
}
